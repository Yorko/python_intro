{
 "cells": [
  {
   "cell_type": "markdown",
   "metadata": {},
   "source": [
    "## Содержание курса\n",
    "\n",
    "1. [Урок 1. Введение в Python и средства разработки](python_lesson1_tools/lesson1_part1_python_intro_tools.ipynb)\n",
    "    - [Git и GitHub](python_lesson1_tools/lesson1_optional_github.ipynb)\n",
    "2. Урок 2. Основы языка Python\n",
    "    - [Часть 1. Встроенные типы данных](python_lesson2_python_basics/lesson2_part1_data_types.ipynb)\n",
    "    - [Часть 2. Числа](python_lesson2_python_basics/lesson2_part2_numbers.ipynb)\n",
    "    - [Часть 3. Строки](python_lesson2_python_basics/lesson2_part3_strings.ipynb)\n",
    "    - [Часть 4. Переменные типа Bool. Условный оператор](python_lesson2_python_basics/lesson2_part4_conditions.ipynb)\n",
    "    - [Часть 5. Циклы](python_lesson2_python_basics/lesson2_part5_while_for.ipynb)\n",
    "    - [Практика решения простейших задач](tasks/lesson2_tasks.ipynb)\n",
    "3. Урок 3. Структуры данных I\n",
    "    - [Часть 1. Списки, кортежи](python_lesson3_data_structures1/lesson3_part1_lists_tuples.ipynb)\n",
    "    - [Часть 2. Алгоритм бинарного поиска в списке и сортировка списков](python_lesson3_data_structures1/lesson3_part2_search_sort.ipynb)\n",
    "    - [Часть 2. Методы сортировки](python_lesson3_data_structures1/lesson3_part2_sorting.ipynb)\n",
    "    - [Часть 3. Алгоритмы на строках](python_lesson3_data_structures1/lesson3_part3_string_algo.ipynb)\n",
    "    - [Часть 4. Словари](python_lesson3_data_structures1/lesson3_part4_dictionaries.ipynb)\n",
    "    - [Часть 5. Пример чтения данных из файла в словарь](python_lesson3_data_structures1/lesson3_part5_reading_file_to_dict.ipynb)\n",
    "    - [Часть 6. Множества](python_lesson3_data_structures1/lesson3_part6_sets.ipynb)\n",
    "    - [Разбор самых распространенных задач на списки и строки](tasks/lesson3_tasks.ipynb)\n",
    "4. Урок 4. Структуры данных II\n",
    "    - [Часть 1. Стек, очередь, дерево, куча, граф](python_lesson4_data_structures2/lesson4_part1_data_structures.ipynb)\n",
    "    - [Часть 2. Классические алгоритмы на графах](python_lesson4_data_structures2/lesson4_part2_graph_algo.ipynb)\n",
    "    - [Разбор задач на слова и множества. Задачи на стек и очередь](tasks/lesson4_tasks.ipynb)\n",
    "5. Урок 5. Функции. Рекурсия\n",
    "    - [Часть 1. Функции](python_lesson5_func_recursion/lesson5_part1_functions.ipynb)\n",
    "    - [Часть 2. Рекурсивные функции](python_lesson5_func_recursion/lesson5_part2_recursion.ipynb)\n",
    "    - [Разбор практических задач на рекурсию](tasks/lesson5_tasks.ipynb)"
   ]
  }
 ],
 "metadata": {
  "kernelspec": {
   "display_name": "Python 2",
   "language": "python",
   "name": "python2"
  },
  "language_info": {
   "codemirror_mode": {
    "name": "ipython",
    "version": 2
   },
   "file_extension": ".py",
   "mimetype": "text/x-python",
   "name": "python",
   "nbconvert_exporter": "python",
   "pygments_lexer": "ipython2",
   "version": "2.7.11"
  }
 },
 "nbformat": 4,
 "nbformat_minor": 0
}
